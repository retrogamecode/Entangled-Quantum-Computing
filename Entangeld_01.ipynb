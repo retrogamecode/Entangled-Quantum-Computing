{
  "nbformat": 4,
  "nbformat_minor": 0,
  "metadata": {
    "colab": {
      "provenance": [],
      "toc_visible": true
    },
    "kernelspec": {
      "name": "python3",
      "display_name": "Python 3"
    },
    "language_info": {
      "name": "python"
    }
  },
  "cells": [
    {
      "cell_type": "markdown",
      "source": [
        "# Examining the Qubits in Qiskit\n",
        "Let's write our first qunatum computer program using Qiskit and Python.\n"
      ],
      "metadata": {
        "id": "ekgsh9f3qtfW"
      }
    },
    {
      "cell_type": "markdown",
      "source": [
        "# Playing with Qubits in Qiskit\n",
        "Step 1. \n",
        "Install the Qiskit visualization onto the virtual machine.\n",
        "Hit the play button to load the libraries in Google Colab."
      ],
      "metadata": {
        "id": "UPORPxjFl6bk"
      }
    },
    {
      "cell_type": "code",
      "source": [
        "pip install qiskit[visualization];"
      ],
      "metadata": {
        "id": "O1wKMZgumUjt"
      },
      "execution_count": null,
      "outputs": []
    },
    {
      "cell_type": "markdown",
      "source": [
        "Step 2. \n",
        "Install the Qiskit Python libraries.\n",
        "Hit the play button to load the Qiskit libraries into your environment."
      ],
      "metadata": {
        "id": "paSkqQ0amso8"
      }
    },
    {
      "cell_type": "code",
      "source": [
        "import numpy as np\n",
        "import matplotlib.pyplot as plt\n",
        "\n",
        "from qiskit import QuantumCircuit, QuantumRegister, transpile\n",
        "from qiskit.providers.aer import QasmSimulator\n",
        "from qiskit.visualization import plot_histogram\n",
        "from qiskit.circuit.library.standard_gates import ZGate, XGate\n",
        "from qiskit.quantum_info import Statevector\n",
        "from qiskit.visualization import plot_state_qsphere, plot_bloch_multivector\n",
        "\n",
        "from qiskit import IBMQ"
      ],
      "metadata": {
        "id": "3o_G-idmnQt6"
      },
      "execution_count": 2,
      "outputs": []
    },
    {
      "cell_type": "markdown",
      "source": [
        "Step 3. \n",
        "Load your local libraries. \n",
        "This is the section we will be modifying when we develop and update our own libraries.\n",
        "Press play button to load."
      ],
      "metadata": {
        "id": "4c6WSi70nSL4"
      }
    },
    {
      "cell_type": "code",
      "source": [
        "# function: InitializeCircuit\n",
        "#   This function initializes a Qiskit circuit based on the Dirac notation\n",
        "#   of the Qubit(s) and the number of Qubits.\n",
        "#\n",
        "# Arguments: NONE\n",
        "# Returns:   Quantum Circuit\n",
        "#\n",
        "# Example:\n",
        "#   InitializeCircuit('0',1)       # |0>\n",
        "#   InitializeCircuit('00',2)      # |00>\n",
        "#   InitializeCircuit('01',2)\n",
        "#\n",
        "def InitializeCircuit(i,numQubits):\n",
        "  i=i[::-1]\n",
        "  circuit = QuantumCircuit(numQubits, numQubits)\n",
        "  circuit.initialize(i, circuit.qubits)\n",
        "  return circuit\n",
        "\n",
        "# function: RunCircuit\n",
        "#   This function runs a quantum circuit \n",
        "#   and returns the state vector.\n",
        "#\n",
        "# Arguments: Quantum Circuit\n",
        "# Returns:   State Vector (array)\n",
        "#\n",
        "# Example:\n",
        "#   qc = InitializeCircuit('0',1)       # |0>\n",
        "#   RunCircuit(qc)\n",
        "#   print(out_state) # Display the output state vector\n",
        "#\n",
        "#      Statevector([1.+0.j, 0.+0.j],\n",
        "#                dims=(2,))\n",
        "#\n",
        "def RunCircuit(circuit):\n",
        "  circuit.save_statevector()\n",
        "  compiled_circuit = transpile(circuit, simulator)\n",
        "  result = simulator.run(compiled_circuit).result() \n",
        "  out_state = result.get_statevector()\n",
        "  return out_state\n"
      ],
      "metadata": {
        "id": "LJ-U9YlGnpd0"
      },
      "execution_count": 5,
      "outputs": []
    },
    {
      "cell_type": "markdown",
      "source": [
        "Example 1: Create a basic quantum circuit of only one qubit with state 0. |0>"
      ],
      "metadata": {
        "id": "9wflSKs_oVrz"
      }
    },
    {
      "cell_type": "code",
      "source": [
        "# Example 1: Create a basic single qubit circuit with state 0.\n",
        "# MAIN ------------------------\n",
        "# initialize the simulator\n",
        "simulator = QasmSimulator()\n",
        "# create the basic single quit circuit |0>\n",
        "qubitState = '0'\n",
        "numQubits = 1\n",
        "circuit = InitializeCircuit(qubitState,numQubits) \n",
        "# draw the circuit\n",
        "style = {'backgroundcolor': 'lavender'}\n",
        "circuit.draw(output='mpl', style = style)\n"
      ],
      "metadata": {
        "id": "HPt4Z5sloo-J",
        "colab": {
          "base_uri": "https://localhost:8080/",
          "height": 140
        },
        "outputId": "dc5f0c67-d6b0-4d52-96ef-f07b821dd26d"
      },
      "execution_count": 4,
      "outputs": [
        {
          "output_type": "execute_result",
          "data": {
            "text/plain": [
              "<Figure size 133.526x144.48 with 1 Axes>"
            ],
            "image/png": "[encoded data removed]"
          },
          "metadata": {},
          "execution_count": 4
        }
      ]
    },
    {
      "cell_type": "markdown",
      "source": [
        "# Understanding Qubits and State Vectors\n",
        "Qubit states are represented as column state vectors.\n",
        "Qubits are denoted in Dirac (bra-ket) notation, |0>.\n",
        "The qubits use \"ket\" notation which means these are column vectors. The Qiskit data structure is a 2-element array for the 2-element column state vector.\n",
        "\n",
        "State 0:\n",
        "\n",
        "$|0>=\\begin{bmatrix}\n",
        "1 \\\\\n",
        "0\n",
        "\\end{bmatrix}$          Qiskit $|0>=\\begin{bmatrix}\n",
        "1.+0.j \\\\\n",
        "0.+0.j\n",
        "\\end{bmatrix}$\n",
        "\n",
        "State 1:\n",
        "\n",
        "$|1>=\\begin{bmatrix}\n",
        "0 \\\\\n",
        "1\n",
        "\\end{bmatrix}$     Qiskit $|1>=\\begin{bmatrix}\n",
        "0.+0.j \\\\\n",
        "1.+0.j\n",
        "\\end{bmatrix}$\n",
        "\n",
        "The j in the state vectors represents i for imaginary numbers. The state vectors are real-complex numbers.\n",
        "\n",
        "The qubit state vectors are orthoganal (their dot product = 0).\n",
        "Using the Dirac notation for the dot product we have,\n",
        "\n",
        "$<0|1> = \\begin{bmatrix}\n",
        "1 & 0\n",
        "\\end{bmatrix}\n",
        "\\begin{bmatrix}\n",
        "0 \\\\ \n",
        "1\n",
        "\\end{bmatrix}$ = (1x0)+(0x1) = 0 \n"
      ],
      "metadata": {
        "id": "JvrlMq7b3AnX"
      }
    },
    {
      "cell_type": "markdown",
      "source": [
        "Example 2: Examine the state vector of the 1 qubit system where the state is |0>.\n"
      ],
      "metadata": {
        "id": "QKX_pbrcr2F8"
      }
    },
    {
      "cell_type": "code",
      "source": [
        "out_state = RunCircuit(circuit)\n",
        "print(out_state) # Display the output state vector\n"
      ],
      "metadata": {
        "colab": {
          "base_uri": "https://localhost:8080/"
        },
        "id": "dYHsK6HhxVTs",
        "outputId": "cdebaee9-698c-4347-844e-5b24ffda379f"
      },
      "execution_count": 6,
      "outputs": [
        {
          "output_type": "stream",
          "name": "stdout",
          "text": [
            "Statevector([1.+0.j, 0.+0.j],\n",
            "            dims=(2,))\n"
          ]
        }
      ]
    },
    {
      "cell_type": "markdown",
      "source": [
        "Example 3: Examine the state vector of a 1 qubit system where the state is |1>."
      ],
      "metadata": {
        "id": "G8bhOQUK2Vt4"
      }
    },
    {
      "cell_type": "code",
      "source": [
        "# create the basic single quit circuit |1>\n",
        "qubitState = '1'\n",
        "numQubits = 1\n",
        "circuit = InitializeCircuit(qubitState,numQubits) \n",
        "out_state = RunCircuit(circuit)\n",
        "print(out_state) # Display the output state vector"
      ],
      "metadata": {
        "colab": {
          "base_uri": "https://localhost:8080/"
        },
        "id": "wMxov24z2dOP",
        "outputId": "ca8d845b-87fa-4fda-cfe7-47e253f7ab8e"
      },
      "execution_count": 7,
      "outputs": [
        {
          "output_type": "stream",
          "name": "stdout",
          "text": [
            "Statevector([0.+0.j, 1.+0.j],\n",
            "            dims=(2,))\n"
          ]
        }
      ]
    }
  ]
}